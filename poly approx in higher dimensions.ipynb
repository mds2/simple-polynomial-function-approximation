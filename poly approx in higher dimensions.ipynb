{
 "cells": [
  {
   "cell_type": "markdown",
   "metadata": {},
   "source": [
    "What this is about\n",
    "================\n",
    "\n",
    "TODO : talk about the previous notebook, do some math, yadda yadda"
   ]
  },
  {
   "cell_type": "code",
   "execution_count": 2,
   "metadata": {},
   "outputs": [],
   "source": [
    "import numpy as np\n",
    "from matplotlib import pyplot as plt"
   ]
  },
  {
   "cell_type": "code",
   "execution_count": 14,
   "metadata": {},
   "outputs": [],
   "source": [
    "def integrate(f, bounds=[[0.0, 1.0], [0.0, 1.0]]):\n",
    "    try:\n",
    "        from scipy.integrate import dblquad\n",
    "        area, err = dblquad(f, bounds[0][0], bounds[0][1], lambda t: bounds[1][0], lambda t: bounds[1][1])\n",
    "        return area\n",
    "    except:\n",
    "        print(\"Could not import from scipy.integrate, integration will be slow and inaccurate\")\n",
    "    nsteps = [1000, 1000]\n",
    "    b = np.array(bounds)\n",
    "    w = b[:,1] - b[:,0]\n",
    "    h = w / np.array(nsteps)\n",
    "    start = b[0,0] + 0.5 * h\n",
    "    xs = [h[0]*i + start[0] for i in range(nsteps[0])]\n",
    "    ys = [h[1]*j + start[1] for j in range(nsteps[1])]\n",
    "    slices = [sum([f(x,y) * h[0] for x in xs]) for y in ys]\n",
    "    areas = [s*h[1] for s in slices]\n",
    "    return sum(areas)"
   ]
  },
  {
   "cell_type": "code",
   "execution_count": 15,
   "metadata": {},
   "outputs": [
    {
     "data": {
      "text/plain": [
       "1.0"
      ]
     },
     "execution_count": 15,
     "metadata": {},
     "output_type": "execute_result"
    }
   ],
   "source": [
    "integrate(lambda x,y: 1.0)"
   ]
  },
  {
   "cell_type": "code",
   "execution_count": null,
   "metadata": {},
   "outputs": [],
   "source": [
    "def get_a(n, bounds=[0.0, 1.0]):\n",
    "    x0 = bounds[0]\n",
    "    x1 = bounds[1]\n",
    "    els = [[(x1 **  (i + j + 1) - x0 ** (i + j + 1))/(i+j+1) for j in range(n)] for i in range(n)]\n",
    "    return np.array(els)\n",
    "\n",
    "def get_b(n, f, bounds=[0.0, 1.0], nsteps=10000):\n",
    "    els = [-2.0 * integrate(lambda x: x**i * f(x), bounds=bounds, nsteps=nsteps) for i in range(n)]\n",
    "    return np.array(els)\n"
   ]
  }
 ],
 "metadata": {
  "kernelspec": {
   "display_name": "Python 3",
   "language": "python",
   "name": "python3"
  },
  "language_info": {
   "codemirror_mode": {
    "name": "ipython",
    "version": 3
   },
   "file_extension": ".py",
   "mimetype": "text/x-python",
   "name": "python",
   "nbconvert_exporter": "python",
   "pygments_lexer": "ipython3",
   "version": "3.6.9"
  }
 },
 "nbformat": 4,
 "nbformat_minor": 4
}
